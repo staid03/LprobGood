{
 "cells": [
  {
   "cell_type": "code",
   "execution_count": 1,
   "metadata": {
    "collapsed": false
   },
   "outputs": [
    {
     "name": "stdout",
     "output_type": "stream",
     "text": [
      "Uninstalling Keras-1.2.0:\n",
      "  Successfully uninstalled Keras-1.2.0\n"
     ]
    }
   ],
   "source": [
    "!pip uninstall -y keras"
   ]
  },
  {
   "cell_type": "code",
   "execution_count": 2,
   "metadata": {
    "collapsed": false
   },
   "outputs": [
    {
     "name": "stdout",
     "output_type": "stream",
     "text": [
      "\r\n",
      "Usage:   \r\n",
      "  pip install [options] <requirement specifier> [package-index-options] ...\r\n",
      "  pip install [options] -r <requirements file> [package-index-options] ...\r\n",
      "  pip install [options] [-e] <vcs project url> ...\r\n",
      "  pip install [options] [-e] <local project path> ...\r\n",
      "  pip install [options] <archive url/path> ...\r\n",
      "\r\n",
      "no such option: -y\r\n"
     ]
    }
   ],
   "source": [
    "!pip install -y keras=1.2.2"
   ]
  },
  {
   "cell_type": "code",
   "execution_count": 3,
   "metadata": {
    "collapsed": false
   },
   "outputs": [
    {
     "name": "stdout",
     "output_type": "stream",
     "text": [
      "Fetching package metadata ...........\n",
      "\n",
      "PackageNotFoundError: Packages missing in current channels:\n",
      "            \n",
      "  - keras 1.2.2*\n",
      "\n",
      "We have searched for the packages in the following channels:\n",
      "            \n",
      "  - https://repo.continuum.io/pkgs/main/linux-64\n",
      "  - https://repo.continuum.io/pkgs/main/noarch\n",
      "  - https://repo.continuum.io/pkgs/free/linux-64\n",
      "  - https://repo.continuum.io/pkgs/free/noarch\n",
      "  - https://repo.continuum.io/pkgs/r/linux-64\n",
      "  - https://repo.continuum.io/pkgs/r/noarch\n",
      "  - https://repo.continuum.io/pkgs/pro/linux-64\n",
      "  - https://repo.continuum.io/pkgs/pro/noarch\n",
      "            \n",
      "\n"
     ]
    }
   ],
   "source": [
    "!conda install -y keras=1.2.2"
   ]
  },
  {
   "cell_type": "code",
   "execution_count": 4,
   "metadata": {
    "collapsed": false
   },
   "outputs": [
    {
     "name": "stdout",
     "output_type": "stream",
     "text": [
      "Collecting keras<2\n",
      "  Downloading Keras-1.2.2.tar.gz (175kB)\n",
      "\u001b[K    100% |████████████████████████████████| 184kB 2.8MB/s \n",
      "\u001b[?25hRequirement already satisfied: theano in /home/ubuntu/anaconda2/lib/python2.7/site-packages (from keras<2)\n",
      "Requirement already satisfied: pyyaml in /home/ubuntu/anaconda2/lib/python2.7/site-packages (from keras<2)\n",
      "Requirement already satisfied: six in /home/ubuntu/anaconda2/lib/python2.7/site-packages (from keras<2)\n",
      "Requirement already satisfied: numpy>=1.7.1 in /home/ubuntu/anaconda2/lib/python2.7/site-packages (from theano->keras<2)\n",
      "Requirement already satisfied: scipy>=0.11 in /home/ubuntu/anaconda2/lib/python2.7/site-packages (from theano->keras<2)\n",
      "Building wheels for collected packages: keras\n",
      "  Running setup.py bdist_wheel for keras ... \u001b[?25l-\b \bdone\n",
      "\u001b[?25h  Stored in directory: /home/ubuntu/.cache/pip/wheels/f6/c5/63/97d96b41bf822858027c70b04448c19deaccf1cf518148fa82\n",
      "Successfully built keras\n",
      "Installing collected packages: keras\n",
      "Successfully installed keras-1.2.2\n"
     ]
    }
   ],
   "source": [
    "!pip install 'keras<2'"
   ]
  },
  {
   "cell_type": "code",
   "execution_count": 2,
   "metadata": {
    "collapsed": false
   },
   "outputs": [
    {
     "name": "stdout",
     "output_type": "stream",
     "text": [
      "Uninstalling Keras-1.2.2:\n",
      "  Successfully uninstalled Keras-1.2.2\n"
     ]
    }
   ],
   "source": [
    "!pip uninstall -y keras"
   ]
  },
  {
   "cell_type": "code",
   "execution_count": 4,
   "metadata": {
    "collapsed": false
   },
   "outputs": [
    {
     "name": "stdout",
     "output_type": "stream",
     "text": [
      "Collecting keras==2.0\n",
      "  Downloading Keras-2.0.0.tar.gz (191kB)\n",
      "\u001b[K    100% |████████████████████████████████| 194kB 3.5MB/s \n",
      "\u001b[?25hCollecting tensorflow (from keras==2.0)\n",
      "  Downloading tensorflow-1.4.0-cp27-cp27mu-manylinux1_x86_64.whl (40.7MB)\n",
      "\u001b[K    100% |████████████████████████████████| 40.8MB 29kB/s \n",
      "\u001b[?25hRequirement already satisfied: pyyaml in /home/ubuntu/anaconda2/lib/python2.7/site-packages (from keras==2.0)\n",
      "Requirement already satisfied: six in /home/ubuntu/anaconda2/lib/python2.7/site-packages (from keras==2.0)\n",
      "Requirement already satisfied: enum34>=1.1.6 in /home/ubuntu/anaconda2/lib/python2.7/site-packages (from tensorflow->keras==2.0)\n",
      "Requirement already satisfied: numpy>=1.12.1 in /home/ubuntu/anaconda2/lib/python2.7/site-packages (from tensorflow->keras==2.0)\n",
      "Collecting protobuf>=3.3.0 (from tensorflow->keras==2.0)\n",
      "  Downloading protobuf-3.5.0.post1-cp27-cp27mu-manylinux1_x86_64.whl (6.4MB)\n",
      "\u001b[K    100% |████████████████████████████████| 6.4MB 184kB/s \n",
      "\u001b[?25hCollecting backports.weakref>=1.0rc1 (from tensorflow->keras==2.0)\n",
      "  Downloading backports.weakref-1.0.post1-py2.py3-none-any.whl\n",
      "Requirement already satisfied: wheel in /home/ubuntu/anaconda2/lib/python2.7/site-packages (from tensorflow->keras==2.0)\n",
      "Collecting mock>=2.0.0 (from tensorflow->keras==2.0)\n",
      "  Downloading mock-2.0.0-py2.py3-none-any.whl (56kB)\n",
      "\u001b[K    100% |████████████████████████████████| 61kB 9.9MB/s \n",
      "\u001b[?25hCollecting tensorflow-tensorboard<0.5.0,>=0.4.0rc1 (from tensorflow->keras==2.0)\n",
      "  Downloading tensorflow_tensorboard-0.4.0rc3-py2-none-any.whl (1.7MB)\n",
      "\u001b[K    100% |████████████████████████████████| 1.7MB 753kB/s \n",
      "\u001b[?25hRequirement already satisfied: setuptools in /home/ubuntu/anaconda2/lib/python2.7/site-packages/setuptools-27.2.0-py2.7.egg (from protobuf>=3.3.0->tensorflow->keras==2.0)\n",
      "Requirement already satisfied: funcsigs>=1; python_version < \"3.3\" in /home/ubuntu/anaconda2/lib/python2.7/site-packages (from mock>=2.0.0->tensorflow->keras==2.0)\n",
      "Requirement already satisfied: pbr>=0.11 in /home/ubuntu/anaconda2/lib/python2.7/site-packages (from mock>=2.0.0->tensorflow->keras==2.0)\n",
      "Collecting markdown>=2.6.8 (from tensorflow-tensorboard<0.5.0,>=0.4.0rc1->tensorflow->keras==2.0)\n",
      "  Downloading Markdown-2.6.9.tar.gz (271kB)\n",
      "\u001b[K    100% |████████████████████████████████| 276kB 4.4MB/s \n",
      "\u001b[?25hRequirement already satisfied: werkzeug>=0.11.10 in /home/ubuntu/anaconda2/lib/python2.7/site-packages (from tensorflow-tensorboard<0.5.0,>=0.4.0rc1->tensorflow->keras==2.0)\n",
      "Collecting futures>=3.1.1; python_version < \"3.2\" (from tensorflow-tensorboard<0.5.0,>=0.4.0rc1->tensorflow->keras==2.0)\n",
      "  Downloading futures-3.2.0-py2-none-any.whl\n",
      "Collecting bleach==1.5.0 (from tensorflow-tensorboard<0.5.0,>=0.4.0rc1->tensorflow->keras==2.0)\n",
      "  Downloading bleach-1.5.0-py2.py3-none-any.whl\n",
      "Collecting html5lib==0.9999999 (from tensorflow-tensorboard<0.5.0,>=0.4.0rc1->tensorflow->keras==2.0)\n",
      "  Downloading html5lib-0.9999999.tar.gz (889kB)\n",
      "\u001b[K    100% |████████████████████████████████| 890kB 1.4MB/s \n",
      "\u001b[?25hBuilding wheels for collected packages: keras, markdown, html5lib\n",
      "  Running setup.py bdist_wheel for keras ... \u001b[?25l-\b \bdone\n",
      "\u001b[?25h  Stored in directory: /home/ubuntu/.cache/pip/wheels/02/88/e7/d2bb6fa8b26ab2966bcaa00d25c0d0052bb2f8e15b5445515b\n",
      "  Running setup.py bdist_wheel for markdown ... \u001b[?25l-\b \b\\\b \b|\b \b/\b \b-\b \b\\\b \bdone\n",
      "\u001b[?25h  Stored in directory: /home/ubuntu/.cache/pip/wheels/bf/46/10/c93e17ae86ae3b3a919c7b39dad3b5ccf09aeb066419e5c1e5\n",
      "  Running setup.py bdist_wheel for html5lib ... \u001b[?25l-\b \bdone\n",
      "\u001b[?25h  Stored in directory: /home/ubuntu/.cache/pip/wheels/6f/85/6c/56b8e1292c6214c4eb73b9dda50f53e8e977bf65989373c962\n",
      "Successfully built keras markdown html5lib\n",
      "Installing collected packages: protobuf, backports.weakref, mock, markdown, futures, html5lib, bleach, tensorflow-tensorboard, tensorflow, keras\n",
      "  Found existing installation: futures 3.0.5\n",
      "\u001b[31m    DEPRECATION: Uninstalling a distutils installed project (futures) has been deprecated and will be removed in a future version. This is due to the fact that uninstalling a distutils project will only partially uninstall the project.\u001b[0m\n",
      "    Uninstalling futures-3.0.5:\n",
      "      Successfully uninstalled futures-3.0.5\n",
      "Successfully installed backports.weakref-1.0.post1 bleach-1.5.0 futures-3.2.0 html5lib-0.9999999 keras-2.0.0 markdown-2.6.9 mock-2.0.0 protobuf-3.5.0.post1 tensorflow-1.4.0 tensorflow-tensorboard-0.4.0rc3\n"
     ]
    }
   ],
   "source": [
    "!pip install keras==2.0"
   ]
  },
  {
   "cell_type": "code",
   "execution_count": null,
   "metadata": {
    "collapsed": true
   },
   "outputs": [],
   "source": []
  }
 ],
 "metadata": {
  "anaconda-cloud": {},
  "kernelspec": {
   "display_name": "Python [conda root]",
   "language": "python",
   "name": "conda-root-py"
  },
  "language_info": {
   "codemirror_mode": {
    "name": "ipython",
    "version": 2
   },
   "file_extension": ".py",
   "mimetype": "text/x-python",
   "name": "python",
   "nbconvert_exporter": "python",
   "pygments_lexer": "ipython2",
   "version": "2.7.12"
  }
 },
 "nbformat": 4,
 "nbformat_minor": 1
}
