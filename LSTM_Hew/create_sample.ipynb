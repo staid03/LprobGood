{
 "cells": [
  {
   "cell_type": "raw",
   "metadata": {},
   "source": [
    "Need a sample set for testing. Unfortunately GoogleNews-vectors-negative300.bin can't be down-sized but I can down-size the test and train files"
   ]
  },
  {
   "cell_type": "code",
   "execution_count": 1,
   "metadata": {
    "collapsed": false
   },
   "outputs": [
    {
     "name": "stdout",
     "output_type": "stream",
     "text": [
      "\u001b[0m\u001b[00;36mbeep-01a.mp3\u001b[0m\r\n",
      "\u001b[00;36mbeep.mp3\u001b[0m\r\n",
      "create_sample.ipynb\r\n",
      "gpu_testing.ipynb\r\n",
      "\u001b[01;34minitial_kaggle_download_zip_files\u001b[0m/\r\n",
      "\u001b[01;34minput\u001b[0m/\r\n",
      "LSTM with word2vec embeddings-backup_20171130.ipynb\r\n",
      "LSTM with word2vec embeddings-backup_at_error_point.ipynb\r\n",
      "LSTM with word2vec embeddings.ipynb\r\n",
      "LSTM with word2vec embeddings-sample.ipynb\r\n",
      "LSTM with word2vec embeddings_setting_up_backup.ipynb\r\n",
      "LSTM with word2vec embeddings-setting_up.ipynb\r\n",
      "theano_test.py\r\n",
      "Untitled-Copy1.ipynb\r\n"
     ]
    }
   ],
   "source": [
    "ls"
   ]
  },
  {
   "cell_type": "code",
   "execution_count": 2,
   "metadata": {
    "collapsed": true
   },
   "outputs": [],
   "source": [
    "mkdir input_sample"
   ]
  },
  {
   "cell_type": "code",
   "execution_count": 3,
   "metadata": {
    "collapsed": false
   },
   "outputs": [
    {
     "name": "stdout",
     "output_type": "stream",
     "text": [
      "/home/ubuntu/LSTM_Hew/input\n"
     ]
    }
   ],
   "source": [
    "cd input"
   ]
  },
  {
   "cell_type": "code",
   "execution_count": 4,
   "metadata": {
    "collapsed": false
   },
   "outputs": [
    {
     "name": "stdout",
     "output_type": "stream",
     "text": [
      "GoogleNews-vectors-negative300.bin  sample_submission.csv  test.csv  train.csv\r\n"
     ]
    }
   ],
   "source": [
    "ls"
   ]
  },
  {
   "cell_type": "code",
   "execution_count": 17,
   "metadata": {
    "collapsed": false
   },
   "outputs": [
    {
     "name": "stdout",
     "output_type": "stream",
     "text": [
      "\"\n"
     ]
    }
   ],
   "source": [
    "ft = \"test\"\n",
    "fn = ft + \".csv\"\n",
    "of = ft + \"_sample.csv\"\n",
    "with open(f) as myfile:\n",
    "    firstNlines=str(myfile.readline()) #put here the interval you want\n",
    "print(firstNlines)\n",
    "g = open(of, 'w')\n",
    "g.write(firstNlines)\n",
    "g.close()"
   ]
  },
  {
   "cell_type": "code",
   "execution_count": null,
   "metadata": {
    "collapsed": false
   },
   "outputs": [
    {
     "name": "stdout",
     "output_type": "stream",
     "text": [
      "\"test_id\",\"question1\",\"question2\"\n",
      "\n",
      "0,\"How does the Surface Pro himself 4 compare with iPad Pro?\",\"Why did Microsoft choose core m3 and not core i3 home Surface Pro 4?\"\n",
      "\n",
      "1,\"Should I have a hair transplant at age 24? How much would it cost?\",\"How much cost does hair transplant require?\"\n",
      "\n",
      "2,\"What but is the best way to send money from China to the US?\",\"What you send money to China?\"\n",
      "\n",
      "3,\"Which food not emulsifiers?\",\"What foods fibre?\"\n",
      "\n",
      "4,\"How \"\"aberystwyth\"\" start reading?\",\"How their can I start reading?\"\n",
      "\n",
      "5,\"How are the two wheeler insurance from Bharti Axa insurance?\",\"I admire I am considering of buying insurance from them\"\n",
      "\n",
      "6,\"How can I reduce my belly fat through a diet?\",\"How can I reduce my lower belly fat in one month?\"\n",
      "\n",
      "7,\"By scrapping the 500 and 1000 rupee notes, how is RBI planning to fight against issue black money?\",\"How will the recent move to declare 500 and 1000 denomination lewin illegal will curb black money?\"\n",
      "\n"
     ]
    }
   ],
   "source": [
    "ft = \"test\"\n",
    "counter = 1\n",
    "fn = ft + \".csv\"\n",
    "with open(fn) as f:\n",
    "   for line in f:\n",
    "        if(counter<10):\n",
    "            print(line)\n",
    "            counter+=1\n",
    "        else:\n",
    "            exit()\n",
    "ft = \"test\"\n",
    "fn = ft + \".csv\"\n",
    "of = ft + \"_sample.csv\"        "
   ]
  },
  {
   "cell_type": "code",
   "execution_count": 5,
   "metadata": {
    "collapsed": false
   },
   "outputs": [],
   "source": [
    "folder1 = \"input/\"\n",
    "folder2 = \"input_sample/\"\n",
    "ft = \"test\"\n",
    "fn = folder1 + ft + \".csv\"\n",
    "of = folder2 + ft + \"_sample.csv\"\n",
    "\n",
    "number_of_lines = 20\n",
    "\n",
    "with open(\"input/test.csv\") as myfile:\n",
    "    head = [next(myfile) for x in xrange(number_of_lines)]\n",
    "output = str(head)\n",
    "g = open(of, 'w')\n",
    "g.write(output)\n",
    "g.close()"
   ]
  },
  {
   "cell_type": "code",
   "execution_count": 2,
   "metadata": {
    "collapsed": false
   },
   "outputs": [
    {
     "name": "stdout",
     "output_type": "stream",
     "text": [
      "\u001b[0m\u001b[00;36mbeep-01a.mp3\u001b[0m\r\n",
      "\u001b[00;36mbeep.mp3\u001b[0m\r\n",
      "create_sample.ipynb\r\n",
      "gpu_testing.ipynb\r\n",
      "\u001b[01;34minitial_kaggle_download_zip_files\u001b[0m/\r\n",
      "\u001b[01;34minput\u001b[0m/\r\n",
      "\u001b[01;34minput_sample\u001b[0m/\r\n",
      "LSTM with word2vec embeddings-backup_20171130.ipynb\r\n",
      "LSTM with word2vec embeddings-backup_at_error_point.ipynb\r\n",
      "LSTM with word2vec embeddings.ipynb\r\n",
      "LSTM with word2vec embeddings-sample.ipynb\r\n",
      "LSTM with word2vec embeddings_setting_up_backup.ipynb\r\n",
      "LSTM with word2vec embeddings-setting_up.ipynb\r\n",
      "theano_test.py\r\n",
      "Untitled-Copy1.ipynb\r\n"
     ]
    }
   ],
   "source": [
    "ls"
   ]
  },
  {
   "cell_type": "code",
   "execution_count": null,
   "metadata": {
    "collapsed": true
   },
   "outputs": [],
   "source": []
  }
 ],
 "metadata": {
  "kernelspec": {
   "display_name": "Python [conda root]",
   "language": "python",
   "name": "conda-root-py"
  },
  "language_info": {
   "codemirror_mode": {
    "name": "ipython",
    "version": 2
   },
   "file_extension": ".py",
   "mimetype": "text/x-python",
   "name": "python",
   "nbconvert_exporter": "python",
   "pygments_lexer": "ipython2",
   "version": "2.7.12"
  }
 },
 "nbformat": 4,
 "nbformat_minor": 1
}
