{
 "cells": [
  {
   "cell_type": "raw",
   "metadata": {},
   "source": [
    "run theano_test.py"
   ]
  },
  {
   "cell_type": "code",
   "execution_count": 4,
   "metadata": {
    "collapsed": false
   },
   "outputs": [
    {
     "name": "stdout",
     "output_type": "stream",
     "text": [
      "-------------------------------------------------------\n",
      "[GpuElemwise{exp,no_inplace}(<CudaNdarrayType(float32, vector)>), HostFromGpu(GpuElemwise{exp,no_inplace}.0)]\n",
      "Looping 1000 times took 0.449598 seconds\n",
      "Result is [ 1.23178029  1.61879349  1.52278066 ...,  2.20771813  2.29967761\n",
      "  1.62323296]\n",
      "Used the gpu\n",
      "0.5 seconds\n",
      "0.0 minutes\n",
      "-------------------------------------------------------\n"
     ]
    }
   ],
   "source": [
    "print(\"-------------------------------------------------------\")\n",
    "import time\n",
    "start = time.time()\n",
    "\n",
    "from theano import function, config, shared, tensor\n",
    "import numpy\n",
    "import time\n",
    "\n",
    "vlen = 10 * 30 * 768  # 10 x #cores x # threads per core\n",
    "iters = 1000\n",
    "\n",
    "rng = numpy.random.RandomState(22)\n",
    "x = shared(numpy.asarray(rng.rand(vlen), config.floatX))\n",
    "f = function([], tensor.exp(x))\n",
    "print(f.maker.fgraph.toposort())\n",
    "t0 = time.time()\n",
    "for i in range(iters):\n",
    "    r = f()\n",
    "t1 = time.time()\n",
    "print(\"Looping %d times took %f seconds\" % (iters, t1 - t0))\n",
    "print(\"Result is %s\" % (r,))\n",
    "if numpy.any([isinstance(x.op, tensor.Elemwise) and\n",
    "              ('Gpu' not in type(x.op).__name__)\n",
    "              for x in f.maker.fgraph.toposort()]):\n",
    "    print('Used the cpu')\n",
    "else:\n",
    "    print('Used the gpu')\n",
    "\n",
    "    \n",
    "end = time.time()\n",
    "time_taken_seconds = str(round((end - start),1))\n",
    "time_taken_minutes = str(round((end - start)/ 60,1))\n",
    "print(time_taken_seconds + \" seconds\")\n",
    "print(time_taken_minutes + \" minutes\")\n",
    "print(\"-------------------------------------------------------\")"
   ]
  },
  {
   "cell_type": "code",
   "execution_count": 1,
   "metadata": {
    "collapsed": false
   },
   "outputs": [
    {
     "name": "stdout",
     "output_type": "stream",
     "text": [
      "-------------------------------------------------------\n",
      "-------------------------------------------------------\n"
     ]
    },
    {
     "name": "stderr",
     "output_type": "stream",
     "text": [
      "Using gpu device 0: Tesla K80 (CNMeM is disabled, cuDNN 5103)\n",
      "/home/ubuntu/anaconda2/lib/python2.7/site-packages/theano/sandbox/cuda/__init__.py:600: UserWarning: Your cuDNN version is more recent than the one Theano officially supports. If you see any problems, try updating Theano or downgrading cuDNN to version 5.\n",
      "  warnings.warn(warn)\n"
     ]
    }
   ],
   "source": [
    "print(\"-------------------------------------------------------\")\n",
    "\"\"\"\n",
    "import time\n",
    "start = time.time()\n",
    "\"\"\"\n",
    "\n",
    "from theano import function, config, shared, tensor\n",
    "import numpy\n",
    "import time\n",
    "\n",
    "vlen = 10 * 30 * 768  # 10 x #cores x # threads per core\n",
    "iters = 1000\n",
    "\n",
    "rng = numpy.random.RandomState(22)\n",
    "\n",
    "    \n",
    "\"\"\"\n",
    "end = time.time()\n",
    "time_taken_seconds = str(round((end - start),1))\n",
    "time_taken_minutes = str(round((end - start)/ 60,1))\n",
    "print(time_taken_seconds + \" seconds\")\n",
    "print(time_taken_minutes + \" minutes\")\n",
    "\"\"\"    \n",
    "\n",
    "print(\"-------------------------------------------------------\")"
   ]
  },
  {
   "cell_type": "code",
   "execution_count": 2,
   "metadata": {
    "collapsed": false
   },
   "outputs": [
    {
     "name": "stdout",
     "output_type": "stream",
     "text": [
      "float32\n"
     ]
    }
   ],
   "source": [
    "x = shared(numpy.asarray(rng.rand(vlen), config.floatX))\n",
    "print(config.floatX)"
   ]
  },
  {
   "cell_type": "code",
   "execution_count": 10,
   "metadata": {
    "collapsed": false,
    "scrolled": true
   },
   "outputs": [
    {
     "ename": "ValueError",
     "evalue": "Can't transfer to target cuda1",
     "output_type": "error",
     "traceback": [
      "\u001b[0;31m--------------------------------------------------\u001b[0m",
      "\u001b[0;31mValueError\u001b[0m       Traceback (most recent call last)",
      "\u001b[0;32m<ipython-input-10-bcd50065ec21>\u001b[0m in \u001b[0;36m<module>\u001b[0;34m()\u001b[0m\n\u001b[1;32m      1\u001b[0m \u001b[0;31m#f = function([], tensor.exp(x).transfer(\"cuda0\"))\u001b[0m\u001b[0;34m\u001b[0m\u001b[0;34m\u001b[0m\u001b[0m\n\u001b[0;32m----> 2\u001b[0;31m \u001b[0mf\u001b[0m \u001b[0;34m=\u001b[0m \u001b[0mfunction\u001b[0m\u001b[0;34m(\u001b[0m\u001b[0;34m[\u001b[0m\u001b[0;34m]\u001b[0m\u001b[0;34m,\u001b[0m \u001b[0mtensor\u001b[0m\u001b[0;34m.\u001b[0m\u001b[0mexp\u001b[0m\u001b[0;34m(\u001b[0m\u001b[0mx\u001b[0m\u001b[0;34m)\u001b[0m\u001b[0;34m.\u001b[0m\u001b[0mtransfer\u001b[0m\u001b[0;34m(\u001b[0m\u001b[0;34m'cuda1'\u001b[0m\u001b[0;34m)\u001b[0m\u001b[0;34m)\u001b[0m\u001b[0;34m\u001b[0m\u001b[0m\n\u001b[0m\u001b[1;32m      3\u001b[0m \u001b[0;31m#f = function([], tensor.exp(x).transfer(None))\u001b[0m\u001b[0;34m\u001b[0m\u001b[0;34m\u001b[0m\u001b[0m\n",
      "\u001b[0;32m/home/ubuntu/anaconda2/lib/python2.7/site-packages/theano/tensor/var.pyc\u001b[0m in \u001b[0;36mtransfer\u001b[0;34m(self, target)\u001b[0m\n\u001b[1;32m    382\u001b[0m             \u001b[0mThe\u001b[0m \u001b[0mdesired\u001b[0m \u001b[0mlocation\u001b[0m \u001b[0mof\u001b[0m \u001b[0mthe\u001b[0m \u001b[0moutput\u001b[0m \u001b[0mvariable\u001b[0m\u001b[0;34m\u001b[0m\u001b[0m\n\u001b[1;32m    383\u001b[0m         \"\"\"\n\u001b[0;32m--> 384\u001b[0;31m         \u001b[0;32mreturn\u001b[0m \u001b[0mtheano\u001b[0m\u001b[0;34m.\u001b[0m\u001b[0mtensor\u001b[0m\u001b[0;34m.\u001b[0m\u001b[0mtransfer\u001b[0m\u001b[0;34m(\u001b[0m\u001b[0mself\u001b[0m\u001b[0;34m,\u001b[0m \u001b[0mtarget\u001b[0m\u001b[0;34m)\u001b[0m\u001b[0;34m\u001b[0m\u001b[0m\n\u001b[0m\u001b[1;32m    385\u001b[0m \u001b[0;34m\u001b[0m\u001b[0m\n\u001b[1;32m    386\u001b[0m     \u001b[0;31m# Elemwise\u001b[0m\u001b[0;34m\u001b[0m\u001b[0;34m\u001b[0m\u001b[0m\n",
      "\u001b[0;32m/home/ubuntu/anaconda2/lib/python2.7/site-packages/theano/tensor/basic.pyc\u001b[0m in \u001b[0;36mtransfer\u001b[0;34m(var, target)\u001b[0m\n\u001b[1;32m   2886\u001b[0m             \u001b[0;32mif\u001b[0m \u001b[0mres\u001b[0m \u001b[0;32mis\u001b[0m \u001b[0;32mnot\u001b[0m \u001b[0mNone\u001b[0m\u001b[0;34m:\u001b[0m\u001b[0;34m\u001b[0m\u001b[0m\n\u001b[1;32m   2887\u001b[0m                 \u001b[0;32mreturn\u001b[0m \u001b[0mres\u001b[0m\u001b[0;34m\u001b[0m\u001b[0m\n\u001b[0;32m-> 2888\u001b[0;31m     \u001b[0;32mraise\u001b[0m \u001b[0mValueError\u001b[0m\u001b[0;34m(\u001b[0m\u001b[0;34m\"Can't transfer to target %s\"\u001b[0m \u001b[0;34m%\u001b[0m \u001b[0;34m(\u001b[0m\u001b[0mtarget\u001b[0m\u001b[0;34m,\u001b[0m\u001b[0;34m)\u001b[0m\u001b[0;34m)\u001b[0m\u001b[0;34m\u001b[0m\u001b[0m\n\u001b[0m\u001b[1;32m   2889\u001b[0m \u001b[0;34m\u001b[0m\u001b[0m\n\u001b[1;32m   2890\u001b[0m \u001b[0mtransfer\u001b[0m\u001b[0;34m.\u001b[0m\u001b[0m_others\u001b[0m \u001b[0;34m=\u001b[0m \u001b[0;34m[\u001b[0m\u001b[0;34m]\u001b[0m\u001b[0;34m\u001b[0m\u001b[0m\n",
      "\u001b[0;31mValueError\u001b[0m: Can't transfer to target cuda1"
     ]
    }
   ],
   "source": [
    "#f = function([], tensor.exp(x).transfer(\"cuda0\"))\n",
    "f = function([], tensor.exp(x).transfer('cuda1'))   \n",
    "#f = function([], tensor.exp(x).transfer(None))"
   ]
  },
  {
   "cell_type": "code",
   "execution_count": 13,
   "metadata": {
    "collapsed": false
   },
   "outputs": [
    {
     "name": "stdout",
     "output_type": "stream",
     "text": [
      "[GpuElemwise{exp,no_inplace}(<CudaNdarrayType(float32, vector)>), HostFromGpu(GpuElemwise{exp,no_inplace}.0)]\n",
      "Looping 1000 times took 0.461380 seconds\n",
      "Result is [ 1.23178029  1.61879349  1.52278066 ...,  2.20771813  2.29967761\n",
      "  1.62323296]\n",
      "Used the gpu\n"
     ]
    }
   ],
   "source": [
    "print(f.maker.fgraph.toposort())\n",
    "t0 = time.time()\n",
    "for i in range(iters):\n",
    "    r = f()\n",
    "t1 = time.time()\n",
    "print(\"Looping %d times took %f seconds\" % (iters, t1 - t0))\n",
    "print(\"Result is %s\" % (numpy.asarray(r),))\n",
    "if numpy.any([isinstance(x.op, tensor.Elemwise) and\n",
    "              ('Gpu' not in type(x.op).__name__)\n",
    "              for x in f.maker.fgraph.toposort()]):\n",
    "    print('Used the cpu')\n",
    "else:\n",
    "    print('Used the gpu')"
   ]
  },
  {
   "cell_type": "code",
   "execution_count": 1,
   "metadata": {
    "collapsed": false
   },
   "outputs": [
    {
     "name": "stdout",
     "output_type": "stream",
     "text": [
      "\u001b[0m\u001b[00;36mbeep-01a.mp3\u001b[0m\r\n",
      "gpu_testing.ipynb\r\n",
      "\u001b[01;34minitial_kaggle_download_zip_files\u001b[0m/\r\n",
      "\u001b[01;34minput\u001b[0m/\r\n",
      "LSTM with word2vec embeddings-backup_20171130.ipynb\r\n",
      "LSTM with word2vec embeddings.ipynb\r\n",
      "LSTM with word2vec embeddings_setting_up_backup.ipynb\r\n",
      "LSTM with word2vec embeddings-setting_up.ipynb\r\n",
      "theano_test.py\r\n"
     ]
    }
   ],
   "source": [
    "ls"
   ]
  },
  {
   "cell_type": "code",
   "execution_count": 2,
   "metadata": {
    "collapsed": true
   },
   "outputs": [],
   "source": [
    "!cp beep-01a.mp3 beep.mp3"
   ]
  },
  {
   "cell_type": "raw",
   "metadata": {
    "collapsed": true
   },
   "source": [
    "Get keras version"
   ]
  },
  {
   "cell_type": "code",
   "execution_count": 1,
   "metadata": {
    "collapsed": false
   },
   "outputs": [
    {
     "name": "stderr",
     "output_type": "stream",
     "text": [
      "Using Theano backend.\n",
      "Using gpu device 0: Tesla K80 (CNMeM is disabled, cuDNN 5103)\n",
      "/home/ubuntu/anaconda2/lib/python2.7/site-packages/theano/sandbox/cuda/__init__.py:600: UserWarning: Your cuDNN version is more recent than the one Theano officially supports. If you see any problems, try updating Theano or downgrading cuDNN to version 5.\n",
      "  warnings.warn(warn)\n"
     ]
    },
    {
     "name": "stdout",
     "output_type": "stream",
     "text": [
      "2.1.1\n"
     ]
    }
   ],
   "source": [
    "import keras; print(keras.__version__)"
   ]
  },
  {
   "cell_type": "code",
   "execution_count": 2,
   "metadata": {
    "collapsed": false
   },
   "outputs": [
    {
     "name": "stdout",
     "output_type": "stream",
     "text": [
      "Uninstalling Keras-2.1.1:\n",
      "  /home/ubuntu/anaconda2/lib/python2.7/site-packages/Keras-2.1.1.dist-info/DESCRIPTION.rst\n",
      "  /home/ubuntu/anaconda2/lib/python2.7/site-packages/Keras-2.1.1.dist-info/INSTALLER\n",
      "  /home/ubuntu/anaconda2/lib/python2.7/site-packages/Keras-2.1.1.dist-info/METADATA\n",
      "  /home/ubuntu/anaconda2/lib/python2.7/site-packages/Keras-2.1.1.dist-info/RECORD\n",
      "  /home/ubuntu/anaconda2/lib/python2.7/site-packages/Keras-2.1.1.dist-info/WHEEL\n",
      "  /home/ubuntu/anaconda2/lib/python2.7/site-packages/Keras-2.1.1.dist-info/metadata.json\n",
      "  /home/ubuntu/anaconda2/lib/python2.7/site-packages/Keras-2.1.1.dist-info/top_level.txt\n",
      "  /home/ubuntu/anaconda2/lib/python2.7/site-packages/keras/__init__.py\n",
      "  /home/ubuntu/anaconda2/lib/python2.7/site-packages/keras/__init__.pyc\n",
      "  /home/ubuntu/anaconda2/lib/python2.7/site-packages/keras/activations.py\n",
      "  /home/ubuntu/anaconda2/lib/python2.7/site-packages/keras/activations.pyc\n",
      "  /home/ubuntu/anaconda2/lib/python2.7/site-packages/keras/applications/__init__.py\n",
      "  /home/ubuntu/anaconda2/lib/python2.7/site-packages/keras/applications/__init__.pyc\n",
      "  /home/ubuntu/anaconda2/lib/python2.7/site-packages/keras/applications/imagenet_utils.py\n",
      "  /home/ubuntu/anaconda2/lib/python2.7/site-packages/keras/applications/imagenet_utils.pyc\n",
      "  /home/ubuntu/anaconda2/lib/python2.7/site-packages/keras/applications/inception_resnet_v2.py\n",
      "  /home/ubuntu/anaconda2/lib/python2.7/site-packages/keras/applications/inception_resnet_v2.pyc\n",
      "  /home/ubuntu/anaconda2/lib/python2.7/site-packages/keras/applications/inception_v3.py\n",
      "  /home/ubuntu/anaconda2/lib/python2.7/site-packages/keras/applications/inception_v3.pyc\n",
      "  /home/ubuntu/anaconda2/lib/python2.7/site-packages/keras/applications/mobilenet.py\n",
      "  /home/ubuntu/anaconda2/lib/python2.7/site-packages/keras/applications/mobilenet.pyc\n",
      "  /home/ubuntu/anaconda2/lib/python2.7/site-packages/keras/applications/resnet50.py\n",
      "  /home/ubuntu/anaconda2/lib/python2.7/site-packages/keras/applications/resnet50.pyc\n",
      "  /home/ubuntu/anaconda2/lib/python2.7/site-packages/keras/applications/vgg16.py\n",
      "  /home/ubuntu/anaconda2/lib/python2.7/site-packages/keras/applications/vgg16.pyc\n",
      "  /home/ubuntu/anaconda2/lib/python2.7/site-packages/keras/applications/vgg19.py\n",
      "  /home/ubuntu/anaconda2/lib/python2.7/site-packages/keras/applications/vgg19.pyc\n",
      "  /home/ubuntu/anaconda2/lib/python2.7/site-packages/keras/applications/xception.py\n",
      "  /home/ubuntu/anaconda2/lib/python2.7/site-packages/keras/applications/xception.pyc\n",
      "  /home/ubuntu/anaconda2/lib/python2.7/site-packages/keras/backend/__init__.py\n",
      "  /home/ubuntu/anaconda2/lib/python2.7/site-packages/keras/backend/__init__.pyc\n",
      "  /home/ubuntu/anaconda2/lib/python2.7/site-packages/keras/backend/cntk_backend.py\n",
      "  /home/ubuntu/anaconda2/lib/python2.7/site-packages/keras/backend/cntk_backend.pyc\n",
      "  /home/ubuntu/anaconda2/lib/python2.7/site-packages/keras/backend/common.py\n",
      "  /home/ubuntu/anaconda2/lib/python2.7/site-packages/keras/backend/common.pyc\n",
      "  /home/ubuntu/anaconda2/lib/python2.7/site-packages/keras/backend/tensorflow_backend.py\n",
      "  /home/ubuntu/anaconda2/lib/python2.7/site-packages/keras/backend/tensorflow_backend.pyc\n",
      "  /home/ubuntu/anaconda2/lib/python2.7/site-packages/keras/backend/theano_backend.py\n",
      "  /home/ubuntu/anaconda2/lib/python2.7/site-packages/keras/backend/theano_backend.pyc\n",
      "  /home/ubuntu/anaconda2/lib/python2.7/site-packages/keras/callbacks.py\n",
      "  /home/ubuntu/anaconda2/lib/python2.7/site-packages/keras/callbacks.pyc\n",
      "  /home/ubuntu/anaconda2/lib/python2.7/site-packages/keras/constraints.py\n",
      "  /home/ubuntu/anaconda2/lib/python2.7/site-packages/keras/constraints.pyc\n",
      "  /home/ubuntu/anaconda2/lib/python2.7/site-packages/keras/datasets/__init__.py\n",
      "  /home/ubuntu/anaconda2/lib/python2.7/site-packages/keras/datasets/__init__.pyc\n",
      "  /home/ubuntu/anaconda2/lib/python2.7/site-packages/keras/datasets/boston_housing.py\n",
      "  /home/ubuntu/anaconda2/lib/python2.7/site-packages/keras/datasets/boston_housing.pyc\n",
      "  /home/ubuntu/anaconda2/lib/python2.7/site-packages/keras/datasets/cifar.py\n",
      "  /home/ubuntu/anaconda2/lib/python2.7/site-packages/keras/datasets/cifar.pyc\n",
      "  /home/ubuntu/anaconda2/lib/python2.7/site-packages/keras/datasets/cifar10.py\n",
      "  /home/ubuntu/anaconda2/lib/python2.7/site-packages/keras/datasets/cifar10.pyc\n",
      "  /home/ubuntu/anaconda2/lib/python2.7/site-packages/keras/datasets/cifar100.py\n",
      "  /home/ubuntu/anaconda2/lib/python2.7/site-packages/keras/datasets/cifar100.pyc\n",
      "  /home/ubuntu/anaconda2/lib/python2.7/site-packages/keras/datasets/fashion_mnist.py\n",
      "  /home/ubuntu/anaconda2/lib/python2.7/site-packages/keras/datasets/fashion_mnist.pyc\n",
      "  /home/ubuntu/anaconda2/lib/python2.7/site-packages/keras/datasets/imdb.py\n",
      "  /home/ubuntu/anaconda2/lib/python2.7/site-packages/keras/datasets/imdb.pyc\n",
      "  /home/ubuntu/anaconda2/lib/python2.7/site-packages/keras/datasets/mnist.py\n",
      "  /home/ubuntu/anaconda2/lib/python2.7/site-packages/keras/datasets/mnist.pyc\n",
      "  /home/ubuntu/anaconda2/lib/python2.7/site-packages/keras/datasets/reuters.py\n",
      "  /home/ubuntu/anaconda2/lib/python2.7/site-packages/keras/datasets/reuters.pyc\n",
      "  /home/ubuntu/anaconda2/lib/python2.7/site-packages/keras/engine/__init__.py\n",
      "  /home/ubuntu/anaconda2/lib/python2.7/site-packages/keras/engine/__init__.pyc\n",
      "  /home/ubuntu/anaconda2/lib/python2.7/site-packages/keras/engine/topology.py\n",
      "  /home/ubuntu/anaconda2/lib/python2.7/site-packages/keras/engine/topology.pyc\n",
      "  /home/ubuntu/anaconda2/lib/python2.7/site-packages/keras/engine/training.py\n",
      "  /home/ubuntu/anaconda2/lib/python2.7/site-packages/keras/engine/training.pyc\n",
      "  /home/ubuntu/anaconda2/lib/python2.7/site-packages/keras/initializers.py\n",
      "  /home/ubuntu/anaconda2/lib/python2.7/site-packages/keras/initializers.pyc\n",
      "  /home/ubuntu/anaconda2/lib/python2.7/site-packages/keras/layers/__init__.py\n",
      "  /home/ubuntu/anaconda2/lib/python2.7/site-packages/keras/layers/__init__.pyc\n",
      "  /home/ubuntu/anaconda2/lib/python2.7/site-packages/keras/layers/advanced_activations.py\n",
      "  /home/ubuntu/anaconda2/lib/python2.7/site-packages/keras/layers/advanced_activations.pyc\n",
      "  /home/ubuntu/anaconda2/lib/python2.7/site-packages/keras/layers/convolutional.py\n",
      "  /home/ubuntu/anaconda2/lib/python2.7/site-packages/keras/layers/convolutional.pyc\n",
      "  /home/ubuntu/anaconda2/lib/python2.7/site-packages/keras/layers/convolutional_recurrent.py\n",
      "  /home/ubuntu/anaconda2/lib/python2.7/site-packages/keras/layers/convolutional_recurrent.pyc\n",
      "  /home/ubuntu/anaconda2/lib/python2.7/site-packages/keras/layers/core.py\n",
      "  /home/ubuntu/anaconda2/lib/python2.7/site-packages/keras/layers/core.pyc\n",
      "  /home/ubuntu/anaconda2/lib/python2.7/site-packages/keras/layers/cudnn_recurrent.py\n",
      "  /home/ubuntu/anaconda2/lib/python2.7/site-packages/keras/layers/cudnn_recurrent.pyc\n",
      "  /home/ubuntu/anaconda2/lib/python2.7/site-packages/keras/layers/embeddings.py\n",
      "  /home/ubuntu/anaconda2/lib/python2.7/site-packages/keras/layers/embeddings.pyc\n",
      "  /home/ubuntu/anaconda2/lib/python2.7/site-packages/keras/layers/local.py\n",
      "  /home/ubuntu/anaconda2/lib/python2.7/site-packages/keras/layers/local.pyc\n",
      "  /home/ubuntu/anaconda2/lib/python2.7/site-packages/keras/layers/merge.py\n",
      "  /home/ubuntu/anaconda2/lib/python2.7/site-packages/keras/layers/merge.pyc\n",
      "  /home/ubuntu/anaconda2/lib/python2.7/site-packages/keras/layers/noise.py\n",
      "  /home/ubuntu/anaconda2/lib/python2.7/site-packages/keras/layers/noise.pyc\n",
      "  /home/ubuntu/anaconda2/lib/python2.7/site-packages/keras/layers/normalization.py\n",
      "  /home/ubuntu/anaconda2/lib/python2.7/site-packages/keras/layers/normalization.pyc\n",
      "  /home/ubuntu/anaconda2/lib/python2.7/site-packages/keras/layers/pooling.py\n",
      "  /home/ubuntu/anaconda2/lib/python2.7/site-packages/keras/layers/pooling.pyc\n",
      "  /home/ubuntu/anaconda2/lib/python2.7/site-packages/keras/layers/recurrent.py\n",
      "  /home/ubuntu/anaconda2/lib/python2.7/site-packages/keras/layers/recurrent.pyc\n",
      "  /home/ubuntu/anaconda2/lib/python2.7/site-packages/keras/layers/wrappers.py\n",
      "  /home/ubuntu/anaconda2/lib/python2.7/site-packages/keras/layers/wrappers.pyc\n",
      "  /home/ubuntu/anaconda2/lib/python2.7/site-packages/keras/legacy/__init__.py\n",
      "  /home/ubuntu/anaconda2/lib/python2.7/site-packages/keras/legacy/__init__.pyc\n",
      "  /home/ubuntu/anaconda2/lib/python2.7/site-packages/keras/legacy/interfaces.py\n",
      "  /home/ubuntu/anaconda2/lib/python2.7/site-packages/keras/legacy/interfaces.pyc\n",
      "  /home/ubuntu/anaconda2/lib/python2.7/site-packages/keras/legacy/layers.py\n",
      "  /home/ubuntu/anaconda2/lib/python2.7/site-packages/keras/legacy/layers.pyc\n",
      "  /home/ubuntu/anaconda2/lib/python2.7/site-packages/keras/legacy/models.py\n",
      "  /home/ubuntu/anaconda2/lib/python2.7/site-packages/keras/legacy/models.pyc\n",
      "  /home/ubuntu/anaconda2/lib/python2.7/site-packages/keras/losses.py\n",
      "  /home/ubuntu/anaconda2/lib/python2.7/site-packages/keras/losses.pyc\n",
      "  /home/ubuntu/anaconda2/lib/python2.7/site-packages/keras/metrics.py\n",
      "  /home/ubuntu/anaconda2/lib/python2.7/site-packages/keras/metrics.pyc\n",
      "  /home/ubuntu/anaconda2/lib/python2.7/site-packages/keras/models.py\n",
      "  /home/ubuntu/anaconda2/lib/python2.7/site-packages/keras/models.pyc\n",
      "  /home/ubuntu/anaconda2/lib/python2.7/site-packages/keras/objectives.py\n",
      "  /home/ubuntu/anaconda2/lib/python2.7/site-packages/keras/objectives.pyc\n",
      "  /home/ubuntu/anaconda2/lib/python2.7/site-packages/keras/optimizers.py\n",
      "  /home/ubuntu/anaconda2/lib/python2.7/site-packages/keras/optimizers.pyc\n",
      "  /home/ubuntu/anaconda2/lib/python2.7/site-packages/keras/preprocessing/__init__.py\n",
      "  /home/ubuntu/anaconda2/lib/python2.7/site-packages/keras/preprocessing/__init__.pyc\n",
      "  /home/ubuntu/anaconda2/lib/python2.7/site-packages/keras/preprocessing/image.py\n",
      "  /home/ubuntu/anaconda2/lib/python2.7/site-packages/keras/preprocessing/image.pyc\n",
      "  /home/ubuntu/anaconda2/lib/python2.7/site-packages/keras/preprocessing/sequence.py\n",
      "  /home/ubuntu/anaconda2/lib/python2.7/site-packages/keras/preprocessing/sequence.pyc\n",
      "  /home/ubuntu/anaconda2/lib/python2.7/site-packages/keras/preprocessing/text.py\n",
      "  /home/ubuntu/anaconda2/lib/python2.7/site-packages/keras/preprocessing/text.pyc\n",
      "  /home/ubuntu/anaconda2/lib/python2.7/site-packages/keras/regularizers.py\n",
      "  /home/ubuntu/anaconda2/lib/python2.7/site-packages/keras/regularizers.pyc\n",
      "  /home/ubuntu/anaconda2/lib/python2.7/site-packages/keras/utils/__init__.py\n",
      "  /home/ubuntu/anaconda2/lib/python2.7/site-packages/keras/utils/__init__.pyc\n",
      "  /home/ubuntu/anaconda2/lib/python2.7/site-packages/keras/utils/conv_utils.py\n",
      "  /home/ubuntu/anaconda2/lib/python2.7/site-packages/keras/utils/conv_utils.pyc\n",
      "  /home/ubuntu/anaconda2/lib/python2.7/site-packages/keras/utils/data_utils.py\n",
      "  /home/ubuntu/anaconda2/lib/python2.7/site-packages/keras/utils/data_utils.pyc\n",
      "  /home/ubuntu/anaconda2/lib/python2.7/site-packages/keras/utils/generic_utils.py\n",
      "  /home/ubuntu/anaconda2/lib/python2.7/site-packages/keras/utils/generic_utils.pyc\n",
      "  /home/ubuntu/anaconda2/lib/python2.7/site-packages/keras/utils/io_utils.py\n",
      "  /home/ubuntu/anaconda2/lib/python2.7/site-packages/keras/utils/io_utils.pyc\n",
      "  /home/ubuntu/anaconda2/lib/python2.7/site-packages/keras/utils/layer_utils.py\n",
      "  /home/ubuntu/anaconda2/lib/python2.7/site-packages/keras/utils/layer_utils.pyc\n",
      "  /home/ubuntu/anaconda2/lib/python2.7/site-packages/keras/utils/np_utils.py\n",
      "  /home/ubuntu/anaconda2/lib/python2.7/site-packages/keras/utils/np_utils.pyc\n",
      "  /home/ubuntu/anaconda2/lib/python2.7/site-packages/keras/utils/test_utils.py\n",
      "  /home/ubuntu/anaconda2/lib/python2.7/site-packages/keras/utils/test_utils.pyc\n",
      "  /home/ubuntu/anaconda2/lib/python2.7/site-packages/keras/utils/training_utils.py\n",
      "  /home/ubuntu/anaconda2/lib/python2.7/site-packages/keras/utils/training_utils.pyc\n",
      "  /home/ubuntu/anaconda2/lib/python2.7/site-packages/keras/utils/vis_utils.py\n",
      "  /home/ubuntu/anaconda2/lib/python2.7/site-packages/keras/utils/vis_utils.pyc\n",
      "  /home/ubuntu/anaconda2/lib/python2.7/site-packages/keras/wrappers/__init__.py\n",
      "  /home/ubuntu/anaconda2/lib/python2.7/site-packages/keras/wrappers/__init__.pyc\n",
      "  /home/ubuntu/anaconda2/lib/python2.7/site-packages/keras/wrappers/scikit_learn.py\n",
      "  /home/ubuntu/anaconda2/lib/python2.7/site-packages/keras/wrappers/scikit_learn.pyc\n",
      "Proceed (y/n)? ^C\u001b[31mOperation cancelled by user\u001b[0m\n",
      "\u001b[33mYou are using pip version 8.1.2, however version 9.0.1 is available.\n",
      "You should consider upgrading via the 'pip install --upgrade pip' command.\u001b[0m\n",
      "\n"
     ]
    }
   ],
   "source": [
    "!pip uninstall keras"
   ]
  },
  {
   "cell_type": "code",
   "execution_count": 2,
   "metadata": {
    "collapsed": false
   },
   "outputs": [
    {
     "name": "stdout",
     "output_type": "stream",
     "text": [
      "Uninstalling Keras-2.1.1:\n",
      "  Successfully uninstalled Keras-2.1.1\n",
      "\u001b[33mYou are using pip version 8.1.2, however version 9.0.1 is available.\n",
      "You should consider upgrading via the 'pip install --upgrade pip' command.\u001b[0m\n"
     ]
    }
   ],
   "source": [
    "!pip uninstall -y keras"
   ]
  },
  {
   "cell_type": "code",
   "execution_count": 3,
   "metadata": {
    "collapsed": false
   },
   "outputs": [
    {
     "name": "stdout",
     "output_type": "stream",
     "text": [
      "Collecting pip\n",
      "  Downloading pip-9.0.1-py2.py3-none-any.whl (1.3MB)\n",
      "\u001b[K    100% |████████████████████████████████| 1.3MB 910kB/s \n",
      "\u001b[?25hInstalling collected packages: pip\n",
      "  Found existing installation: pip 8.1.2\n",
      "    Uninstalling pip-8.1.2:\n",
      "      Successfully uninstalled pip-8.1.2\n",
      "Successfully installed pip-9.0.1\n"
     ]
    }
   ],
   "source": [
    "!pip install --upgrade pip"
   ]
  },
  {
   "cell_type": "code",
   "execution_count": 4,
   "metadata": {
    "collapsed": false
   },
   "outputs": [
    {
     "name": "stdout",
     "output_type": "stream",
     "text": [
      "Collecting keras==1.2.0\n",
      "  Downloading Keras-1.2.0.tar.gz (167kB)\n",
      "\u001b[K    100% |████████████████████████████████| 174kB 3.6MB/s \n",
      "\u001b[?25hRequirement already satisfied: theano in /home/ubuntu/anaconda2/lib/python2.7/site-packages (from keras==1.2.0)\n",
      "Requirement already satisfied: pyyaml in /home/ubuntu/anaconda2/lib/python2.7/site-packages (from keras==1.2.0)\n",
      "Requirement already satisfied: six in /home/ubuntu/anaconda2/lib/python2.7/site-packages (from keras==1.2.0)\n",
      "Requirement already satisfied: numpy>=1.7.1 in /home/ubuntu/anaconda2/lib/python2.7/site-packages (from theano->keras==1.2.0)\n",
      "Requirement already satisfied: scipy>=0.11 in /home/ubuntu/anaconda2/lib/python2.7/site-packages (from theano->keras==1.2.0)\n",
      "Building wheels for collected packages: keras\n",
      "  Running setup.py bdist_wheel for keras ... \u001b[?25l-\b \bdone\n",
      "\u001b[?25h  Stored in directory: /home/ubuntu/.cache/pip/wheels/f8/2c/8e/27d952128220b1acf6fcd5e692269c6e8d60744c15fd160c2c\n",
      "Successfully built keras\n",
      "Installing collected packages: keras\n",
      "Successfully installed keras-1.2.0\n"
     ]
    }
   ],
   "source": [
    "!pip install keras==1.2.0"
   ]
  },
  {
   "cell_type": "code",
   "execution_count": null,
   "metadata": {
    "collapsed": true
   },
   "outputs": [],
   "source": []
  }
 ],
 "metadata": {
  "anaconda-cloud": {},
  "kernelspec": {
   "display_name": "Python [conda root]",
   "language": "python",
   "name": "conda-root-py"
  },
  "language_info": {
   "codemirror_mode": {
    "name": "ipython",
    "version": 2
   },
   "file_extension": ".py",
   "mimetype": "text/x-python",
   "name": "python",
   "nbconvert_exporter": "python",
   "pygments_lexer": "ipython2",
   "version": "2.7.12"
  }
 },
 "nbformat": 4,
 "nbformat_minor": 1
}
